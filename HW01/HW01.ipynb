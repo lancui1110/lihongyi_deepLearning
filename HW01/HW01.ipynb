{
  "nbformat": 4,
  "nbformat_minor": 0,
  "metadata": {
    "colab": {
      "provenance": [],
      "authorship_tag": "ABX9TyMhKWKcr7nQr22/36Ks/wSf",
      "include_colab_link": true
    },
    "kernelspec": {
      "name": "python3",
      "display_name": "Python 3"
    },
    "language_info": {
      "name": "python"
    }
  },
  "cells": [
    {
      "cell_type": "markdown",
      "metadata": {
        "id": "view-in-github",
        "colab_type": "text"
      },
      "source": [
        "<a href=\"https://colab.research.google.com/github/lancui1110/lihongyi_deepLearning/blob/main/HW01/HW01.ipynb\" target=\"_parent\"><img src=\"https://colab.research.google.com/assets/colab-badge.svg\" alt=\"Open In Colab\"/></a>"
      ]
    },
    {
      "cell_type": "markdown",
      "source": [],
      "metadata": {
        "id": "tk1fbS6FolzX"
      }
    },
    {
      "cell_type": "markdown",
      "source": [
        "Homework 1: COVID-19 Cases Prediction (Regression)\n",
        "\n",
        "Slides: [Slides: https://github.com/ga642381/ML2021-Spring/blob/main/HW01/HW01.pdf](https://github.com/ga642381/ML2021-Spring/blob/main/HW01/HW01.pdf)"
      ],
      "metadata": {
        "id": "F3ZO9_Cjop0-"
      }
    },
    {
      "cell_type": "code",
      "source": [
        "tr_path = 'covid.train.csv'\n",
        "tt_path = 'covid.test.csv'\n",
        "\n",
        "!gdown --id '19CCyCgJrUxtvgZF53vnctJiOJ23T5mqF' --output covid.train.csv\n",
        "!gdown --id '1CE240jLm2npU-tdz81-oVKEF3T2yfT1O' --output covid.test.csv"
      ],
      "metadata": {
        "colab": {
          "base_uri": "https://localhost:8080/"
        },
        "id": "ZrVuVXd3o-kZ",
        "outputId": "44dd6f6c-d7ee-45b4-acea-a092e3586bf3"
      },
      "execution_count": 2,
      "outputs": [
        {
          "output_type": "stream",
          "name": "stdout",
          "text": [
            "/usr/local/lib/python3.10/dist-packages/gdown/__main__.py:140: FutureWarning: Option `--id` was deprecated in version 4.3.1 and will be removed in 5.0. You don't need to pass it anymore to use a file ID.\n",
            "  warnings.warn(\n",
            "Downloading...\n",
            "From: https://drive.google.com/uc?id=19CCyCgJrUxtvgZF53vnctJiOJ23T5mqF\n",
            "To: /content/covid.train.csv\n",
            "100% 2.00M/2.00M [00:00<00:00, 140MB/s]\n",
            "/usr/local/lib/python3.10/dist-packages/gdown/__main__.py:140: FutureWarning: Option `--id` was deprecated in version 4.3.1 and will be removed in 5.0. You don't need to pass it anymore to use a file ID.\n",
            "  warnings.warn(\n",
            "Downloading...\n",
            "From: https://drive.google.com/uc?id=1CE240jLm2npU-tdz81-oVKEF3T2yfT1O\n",
            "To: /content/covid.test.csv\n",
            "100% 651k/651k [00:00<00:00, 56.8MB/s]\n"
          ]
        }
      ]
    },
    {
      "cell_type": "code",
      "source": [
        "#PyTorch\n",
        "import torch\n",
        "import torch.nn as nn\n",
        "from torch.utils.data import Dataset, DataLoader\n",
        "\n",
        "# For data process 数据程序\n",
        "import numpy as np\n",
        "import csv\n",
        "import os\n",
        "\n",
        "# For plotting 绘图\n",
        "import matplotlib.pyplot as plt\n",
        "from matplotlib.pyplot import figure\n",
        "\n",
        "myseed = 42069 # set a ramdom seed for reproducibility 为再现性设置一个随机种子\n",
        "# 配置了PyTorch的cudnn后端\n",
        "torch.backends.cudnn.deterministic = True # 为了确保每次运行代码时，卷积操作的结果都是相同的\n",
        "torch.backends.cudnn.benchmark = False # 关闭运行时的算法自动选择功能，这样可以保证每次运行时使用的卷积算法是相同的，有助于结果的可重复性\n",
        "np.random.seed(myseed) # 设置了numpy的随机种子，确保numpy生成的随机数是可重复的\n",
        "torch.manual_seed(myseed) # 设置了PyTorch的随机种子，确保PyTorch生成的随机数是可重复的\n",
        "if torch.cuda.is_available(): # 检查是否有可用的CUDA设备（通常是NVIDIA的GPU）\n",
        "    torch.cuda.manual_seed_all() # 为所有的CUDA设备设置随机种子，确保在多GPU环境下也能获得可重复的结果"
      ],
      "metadata": {
        "id": "ZFPUXEnaq-Ze"
      },
      "execution_count": 5,
      "outputs": []
    },
    {
      "cell_type": "code",
      "source": [
        "def get_device():\n",
        "  ''' get device (if GPU is available, use GPU) '''\n",
        "  return 'cuda' if torch.cuda.is_available else 'cpu'\n",
        "\n",
        "def plot_learning_curve(loss_record, title=''):\n",
        "  '''plot lerning curve of your DNN (train and dev loss)'''"
      ],
      "metadata": {
        "id": "DF6i979JxAxi"
      },
      "execution_count": null,
      "outputs": []
    }
  ]
}